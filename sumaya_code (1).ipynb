{
 "cells": [
  {
   "cell_type": "markdown",
   "metadata": {},
   "source": [
    "# Dependencies"
   ]
  },
  {
   "cell_type": "code",
   "execution_count": 1,
   "metadata": {},
   "outputs": [],
   "source": [
    "#Import dependencies\n",
    "import numpy as np\n",
    "import pandas as pd\n",
    "from scipy import stats\n",
    "from matplotlib import pyplot as plt\n",
    "from scipy.stats import linregress\n",
    "import numpy as np\n",
    "import os"
   ]
  },
  {
   "cell_type": "markdown",
   "metadata": {},
   "source": [
    "# Raw Data Files"
   ]
  },
  {
   "cell_type": "code",
   "execution_count": 2,
   "metadata": {},
   "outputs": [],
   "source": [
    "#Specifying Files - Sumaya/Jake\n",
    "rootFolder = \"raw_data\"\n",
    "#Get tuition data\n",
    "tuition_data = os.path.join(rootFolder,\"tuition_and_board_2018_inflated.csv\")\n",
    "#Get wage data\n",
    "wages_data = os.path.join(rootFolder,\"median_income.csv\")\n",
    "#Get loan data\n",
    "loan_data = os.path.join(rootFolder,\"student_aid.csv\")\n",
    "#Get wage gap data\n",
    "wage_gaps = os.path.join(rootFolder,\"wage_gap.csv\")\n",
    "#Get student grant data\n",
    "student_grants = os.path.join(rootFolder,\"grants_awarded.csv\")\n",
    "#Get consumer price index data\n",
    "cpi = os.path.join(rootFolder,\"consumer_price_index.csv\")\n",
    "#Get Federal loan data\n",
    "fed_loan_data = os.path.join(rootFolder,\"fed_rsrv_bank_std_loan_debt.csv\")\n",
    "#Get data for student overall Debt\n",
    "student_overall_debt = os.path.join(rootFolder,\"debt_by_studentswithdebt.csv\")\n",
    "#Get enrollment data\n",
    "enrollment_data = os.path.join(rootFolder,\"enrollment_statistics.csv\")"
   ]
  },
  {
   "cell_type": "markdown",
   "metadata": {},
   "source": [
    "# Data Frames"
   ]
  },
  {
   "cell_type": "code",
   "execution_count": 3,
   "metadata": {},
   "outputs": [
    {
     "ename": "FileNotFoundError",
     "evalue": "File b'raw_data\\\\tuition_and_board_2018_inflated.csv' does not exist",
     "output_type": "error",
     "traceback": [
      "\u001b[1;31m---------------------------------------------------------------------------\u001b[0m",
      "\u001b[1;31mFileNotFoundError\u001b[0m                         Traceback (most recent call last)",
      "\u001b[1;32m<ipython-input-3-f944b91d66a8>\u001b[0m in \u001b[0;36m<module>\u001b[1;34m\u001b[0m\n\u001b[0;32m      1\u001b[0m \u001b[1;31m#Defining Table Frmaes - Sumaya/Jake\u001b[0m\u001b[1;33m\u001b[0m\u001b[1;33m\u001b[0m\u001b[1;33m\u001b[0m\u001b[0m\n\u001b[1;32m----> 2\u001b[1;33m \u001b[0mdf_tuition\u001b[0m \u001b[1;33m=\u001b[0m \u001b[0mpd\u001b[0m\u001b[1;33m.\u001b[0m\u001b[0mread_csv\u001b[0m\u001b[1;33m(\u001b[0m\u001b[0mtuition_data\u001b[0m\u001b[1;33m)\u001b[0m\u001b[1;33m\u001b[0m\u001b[1;33m\u001b[0m\u001b[0m\n\u001b[0m\u001b[0;32m      3\u001b[0m \u001b[0mdf_wage_data\u001b[0m \u001b[1;33m=\u001b[0m \u001b[0mpd\u001b[0m\u001b[1;33m.\u001b[0m\u001b[0mread_csv\u001b[0m\u001b[1;33m(\u001b[0m\u001b[0mwages_data\u001b[0m\u001b[1;33m)\u001b[0m\u001b[1;33m\u001b[0m\u001b[1;33m\u001b[0m\u001b[0m\n\u001b[0;32m      4\u001b[0m \u001b[0mdf_loan_data\u001b[0m \u001b[1;33m=\u001b[0m \u001b[0mpd\u001b[0m\u001b[1;33m.\u001b[0m\u001b[0mread_csv\u001b[0m\u001b[1;33m(\u001b[0m\u001b[0mloan_data\u001b[0m\u001b[1;33m)\u001b[0m\u001b[1;33m\u001b[0m\u001b[1;33m\u001b[0m\u001b[0m\n\u001b[0;32m      5\u001b[0m \u001b[0mdf_wage_gaps\u001b[0m \u001b[1;33m=\u001b[0m \u001b[0mpd\u001b[0m\u001b[1;33m.\u001b[0m\u001b[0mread_csv\u001b[0m\u001b[1;33m(\u001b[0m\u001b[0mwage_gaps\u001b[0m\u001b[1;33m)\u001b[0m\u001b[1;33m\u001b[0m\u001b[1;33m\u001b[0m\u001b[0m\n",
      "\u001b[1;32m~\\anaconda\\Anaconda3\\lib\\site-packages\\pandas\\io\\parsers.py\u001b[0m in \u001b[0;36mparser_f\u001b[1;34m(filepath_or_buffer, sep, delimiter, header, names, index_col, usecols, squeeze, prefix, mangle_dupe_cols, dtype, engine, converters, true_values, false_values, skipinitialspace, skiprows, nrows, na_values, keep_default_na, na_filter, verbose, skip_blank_lines, parse_dates, infer_datetime_format, keep_date_col, date_parser, dayfirst, iterator, chunksize, compression, thousands, decimal, lineterminator, quotechar, quoting, escapechar, comment, encoding, dialect, tupleize_cols, error_bad_lines, warn_bad_lines, skipfooter, doublequote, delim_whitespace, low_memory, memory_map, float_precision)\u001b[0m\n\u001b[0;32m    676\u001b[0m                     skip_blank_lines=skip_blank_lines)\n\u001b[0;32m    677\u001b[0m \u001b[1;33m\u001b[0m\u001b[0m\n\u001b[1;32m--> 678\u001b[1;33m         \u001b[1;32mreturn\u001b[0m \u001b[0m_read\u001b[0m\u001b[1;33m(\u001b[0m\u001b[0mfilepath_or_buffer\u001b[0m\u001b[1;33m,\u001b[0m \u001b[0mkwds\u001b[0m\u001b[1;33m)\u001b[0m\u001b[1;33m\u001b[0m\u001b[1;33m\u001b[0m\u001b[0m\n\u001b[0m\u001b[0;32m    679\u001b[0m \u001b[1;33m\u001b[0m\u001b[0m\n\u001b[0;32m    680\u001b[0m     \u001b[0mparser_f\u001b[0m\u001b[1;33m.\u001b[0m\u001b[0m__name__\u001b[0m \u001b[1;33m=\u001b[0m \u001b[0mname\u001b[0m\u001b[1;33m\u001b[0m\u001b[1;33m\u001b[0m\u001b[0m\n",
      "\u001b[1;32m~\\anaconda\\Anaconda3\\lib\\site-packages\\pandas\\io\\parsers.py\u001b[0m in \u001b[0;36m_read\u001b[1;34m(filepath_or_buffer, kwds)\u001b[0m\n\u001b[0;32m    438\u001b[0m \u001b[1;33m\u001b[0m\u001b[0m\n\u001b[0;32m    439\u001b[0m     \u001b[1;31m# Create the parser.\u001b[0m\u001b[1;33m\u001b[0m\u001b[1;33m\u001b[0m\u001b[1;33m\u001b[0m\u001b[0m\n\u001b[1;32m--> 440\u001b[1;33m     \u001b[0mparser\u001b[0m \u001b[1;33m=\u001b[0m \u001b[0mTextFileReader\u001b[0m\u001b[1;33m(\u001b[0m\u001b[0mfilepath_or_buffer\u001b[0m\u001b[1;33m,\u001b[0m \u001b[1;33m**\u001b[0m\u001b[0mkwds\u001b[0m\u001b[1;33m)\u001b[0m\u001b[1;33m\u001b[0m\u001b[1;33m\u001b[0m\u001b[0m\n\u001b[0m\u001b[0;32m    441\u001b[0m \u001b[1;33m\u001b[0m\u001b[0m\n\u001b[0;32m    442\u001b[0m     \u001b[1;32mif\u001b[0m \u001b[0mchunksize\u001b[0m \u001b[1;32mor\u001b[0m \u001b[0miterator\u001b[0m\u001b[1;33m:\u001b[0m\u001b[1;33m\u001b[0m\u001b[1;33m\u001b[0m\u001b[0m\n",
      "\u001b[1;32m~\\anaconda\\Anaconda3\\lib\\site-packages\\pandas\\io\\parsers.py\u001b[0m in \u001b[0;36m__init__\u001b[1;34m(self, f, engine, **kwds)\u001b[0m\n\u001b[0;32m    785\u001b[0m             \u001b[0mself\u001b[0m\u001b[1;33m.\u001b[0m\u001b[0moptions\u001b[0m\u001b[1;33m[\u001b[0m\u001b[1;34m'has_index_names'\u001b[0m\u001b[1;33m]\u001b[0m \u001b[1;33m=\u001b[0m \u001b[0mkwds\u001b[0m\u001b[1;33m[\u001b[0m\u001b[1;34m'has_index_names'\u001b[0m\u001b[1;33m]\u001b[0m\u001b[1;33m\u001b[0m\u001b[1;33m\u001b[0m\u001b[0m\n\u001b[0;32m    786\u001b[0m \u001b[1;33m\u001b[0m\u001b[0m\n\u001b[1;32m--> 787\u001b[1;33m         \u001b[0mself\u001b[0m\u001b[1;33m.\u001b[0m\u001b[0m_make_engine\u001b[0m\u001b[1;33m(\u001b[0m\u001b[0mself\u001b[0m\u001b[1;33m.\u001b[0m\u001b[0mengine\u001b[0m\u001b[1;33m)\u001b[0m\u001b[1;33m\u001b[0m\u001b[1;33m\u001b[0m\u001b[0m\n\u001b[0m\u001b[0;32m    788\u001b[0m \u001b[1;33m\u001b[0m\u001b[0m\n\u001b[0;32m    789\u001b[0m     \u001b[1;32mdef\u001b[0m \u001b[0mclose\u001b[0m\u001b[1;33m(\u001b[0m\u001b[0mself\u001b[0m\u001b[1;33m)\u001b[0m\u001b[1;33m:\u001b[0m\u001b[1;33m\u001b[0m\u001b[1;33m\u001b[0m\u001b[0m\n",
      "\u001b[1;32m~\\anaconda\\Anaconda3\\lib\\site-packages\\pandas\\io\\parsers.py\u001b[0m in \u001b[0;36m_make_engine\u001b[1;34m(self, engine)\u001b[0m\n\u001b[0;32m   1012\u001b[0m     \u001b[1;32mdef\u001b[0m \u001b[0m_make_engine\u001b[0m\u001b[1;33m(\u001b[0m\u001b[0mself\u001b[0m\u001b[1;33m,\u001b[0m \u001b[0mengine\u001b[0m\u001b[1;33m=\u001b[0m\u001b[1;34m'c'\u001b[0m\u001b[1;33m)\u001b[0m\u001b[1;33m:\u001b[0m\u001b[1;33m\u001b[0m\u001b[1;33m\u001b[0m\u001b[0m\n\u001b[0;32m   1013\u001b[0m         \u001b[1;32mif\u001b[0m \u001b[0mengine\u001b[0m \u001b[1;33m==\u001b[0m \u001b[1;34m'c'\u001b[0m\u001b[1;33m:\u001b[0m\u001b[1;33m\u001b[0m\u001b[1;33m\u001b[0m\u001b[0m\n\u001b[1;32m-> 1014\u001b[1;33m             \u001b[0mself\u001b[0m\u001b[1;33m.\u001b[0m\u001b[0m_engine\u001b[0m \u001b[1;33m=\u001b[0m \u001b[0mCParserWrapper\u001b[0m\u001b[1;33m(\u001b[0m\u001b[0mself\u001b[0m\u001b[1;33m.\u001b[0m\u001b[0mf\u001b[0m\u001b[1;33m,\u001b[0m \u001b[1;33m**\u001b[0m\u001b[0mself\u001b[0m\u001b[1;33m.\u001b[0m\u001b[0moptions\u001b[0m\u001b[1;33m)\u001b[0m\u001b[1;33m\u001b[0m\u001b[1;33m\u001b[0m\u001b[0m\n\u001b[0m\u001b[0;32m   1015\u001b[0m         \u001b[1;32melse\u001b[0m\u001b[1;33m:\u001b[0m\u001b[1;33m\u001b[0m\u001b[1;33m\u001b[0m\u001b[0m\n\u001b[0;32m   1016\u001b[0m             \u001b[1;32mif\u001b[0m \u001b[0mengine\u001b[0m \u001b[1;33m==\u001b[0m \u001b[1;34m'python'\u001b[0m\u001b[1;33m:\u001b[0m\u001b[1;33m\u001b[0m\u001b[1;33m\u001b[0m\u001b[0m\n",
      "\u001b[1;32m~\\anaconda\\Anaconda3\\lib\\site-packages\\pandas\\io\\parsers.py\u001b[0m in \u001b[0;36m__init__\u001b[1;34m(self, src, **kwds)\u001b[0m\n\u001b[0;32m   1706\u001b[0m         \u001b[0mkwds\u001b[0m\u001b[1;33m[\u001b[0m\u001b[1;34m'usecols'\u001b[0m\u001b[1;33m]\u001b[0m \u001b[1;33m=\u001b[0m \u001b[0mself\u001b[0m\u001b[1;33m.\u001b[0m\u001b[0musecols\u001b[0m\u001b[1;33m\u001b[0m\u001b[1;33m\u001b[0m\u001b[0m\n\u001b[0;32m   1707\u001b[0m \u001b[1;33m\u001b[0m\u001b[0m\n\u001b[1;32m-> 1708\u001b[1;33m         \u001b[0mself\u001b[0m\u001b[1;33m.\u001b[0m\u001b[0m_reader\u001b[0m \u001b[1;33m=\u001b[0m \u001b[0mparsers\u001b[0m\u001b[1;33m.\u001b[0m\u001b[0mTextReader\u001b[0m\u001b[1;33m(\u001b[0m\u001b[0msrc\u001b[0m\u001b[1;33m,\u001b[0m \u001b[1;33m**\u001b[0m\u001b[0mkwds\u001b[0m\u001b[1;33m)\u001b[0m\u001b[1;33m\u001b[0m\u001b[1;33m\u001b[0m\u001b[0m\n\u001b[0m\u001b[0;32m   1709\u001b[0m \u001b[1;33m\u001b[0m\u001b[0m\n\u001b[0;32m   1710\u001b[0m         \u001b[0mpassed_names\u001b[0m \u001b[1;33m=\u001b[0m \u001b[0mself\u001b[0m\u001b[1;33m.\u001b[0m\u001b[0mnames\u001b[0m \u001b[1;32mis\u001b[0m \u001b[1;32mNone\u001b[0m\u001b[1;33m\u001b[0m\u001b[1;33m\u001b[0m\u001b[0m\n",
      "\u001b[1;32mpandas\\_libs\\parsers.pyx\u001b[0m in \u001b[0;36mpandas._libs.parsers.TextReader.__cinit__\u001b[1;34m()\u001b[0m\n",
      "\u001b[1;32mpandas\\_libs\\parsers.pyx\u001b[0m in \u001b[0;36mpandas._libs.parsers.TextReader._setup_parser_source\u001b[1;34m()\u001b[0m\n",
      "\u001b[1;31mFileNotFoundError\u001b[0m: File b'raw_data\\\\tuition_and_board_2018_inflated.csv' does not exist"
     ]
    }
   ],
   "source": [
    "#Defining Table Frmaes - Sumaya/Jake\n",
    "df_tuition = pd.read_csv(tuition_data)\n",
    "df_wage_data = pd.read_csv(wages_data)\n",
    "df_loan_data = pd.read_csv(loan_data)\n",
    "df_wage_gaps = pd.read_csv(wage_gaps)\n",
    "df_student_grants = pd.read_csv(student_grants)\n",
    "df_cpi = pd.read_csv(cpi)\n",
    "df_fed_loan_data = pd.read_csv(fed_loan_data)\n",
    "df_student_overall_debt = pd.read_csv(student_overall_debt)\n",
    "df_enroll = pd.read_csv(enrollment_data)"
   ]
  },
  {
   "cell_type": "code",
   "execution_count": null,
   "metadata": {},
   "outputs": [],
   "source": [
    "df_fed_loan_data"
   ]
  },
  {
   "cell_type": "code",
   "execution_count": null,
   "metadata": {},
   "outputs": [],
   "source": [
    "#Merging Tables-Sumaya\n",
    "merge_table = pd.merge(df_tuition, df_wage_data, on = \"year\", how = \"inner\")\n",
    "merge_table2 = pd.merge(merge_table, df_loan_data,on = \"year\", how = \"inner\")\n",
    "merge_table3 = pd.merge(merge_table2, df_wage_gaps, on = \"year\", how = \"inner\")\n",
    "merge_table4 = pd.merge(merge_table3, df_student_grants, on = \"year\", how = \"inner\")\n",
    "merge_table5 = pd.merge(merge_table4, df_enroll, on = \"year\", how = \"inner\")\n",
    "final_merged_table = pd.merge(merge_table5, df_cpi, on = \"year\", how = \"inner\")\n",
    "final_merged_table.head()\n",
    "\n",
    "\n",
    "#-----------------------------------------------------------------------------------------------------\n",
    "#Federl Reserve Tables - These tables showcase students with student loans in addition to other loans like mortgage, credit card, and autoloans\n",
    "#The df_fed_loan_data starts from 1990 and shows data from loan instutions. Which is comprehensive.\n",
    "#The df_student_overall_debt starts from 1999 and goes by quater. The quaters need to be averaged by year."
   ]
  },
  {
   "cell_type": "markdown",
   "metadata": {},
   "source": [
    "# Data Munging\n",
    "* pv -> Private\n",
    "* pb -> Public\n",
    "* np -> Non profit\n",
    "* bd -> room and board"
   ]
  },
  {
   "cell_type": "code",
   "execution_count": null,
   "metadata": {
    "scrolled": true
   },
   "outputs": [],
   "source": [
    "masterTable = final_merged_table.copy() #copy final merged table\n",
    "masterTable = masterTable.set_index(\"year\") #set index to year\n",
    "masterTable = masterTable.T #transpose table\n",
    "masterTable"
   ]
  },
  {
   "cell_type": "markdown",
   "metadata": {},
   "source": [
    "# Plots"
   ]
  },
  {
   "cell_type": "markdown",
   "metadata": {},
   "source": [
    "### Tuition vs Average Wage Index"
   ]
  },
  {
   "cell_type": "code",
   "execution_count": null,
   "metadata": {},
   "outputs": [],
   "source": [
    "#plot Tuition vs Average Wage Index\n",
    "plt.plot(masterTable.columns,masterTable.loc[\"pv_np_4fr_tuition\"] / 1000, color = 'red',label = \"Private 4 year tuition\")\n",
    "plt.plot(masterTable.columns,masterTable.loc[\"pb_4fr_tuition\"] / 1000, color = 'green',label = \"Public 4 year tuition\")\n",
    "plt.plot(masterTable.columns,masterTable.loc[\"pb_two_2yr_tuition\"] / 1000, color = 'blue',label = \"Public 2 year tuition\")\n",
    "plt.plot(masterTable.columns,masterTable.loc[\"average_wage_index\"] / 1000,label = \"Median Income\", color = \"orange\")\n",
    "plt.plot(masterTable.columns,masterTable.loc[\"pb_4fr_tuition_bd\"] / 1000,label = \"Public 4 year rm & bd\", color = \"black\")\n",
    "plt.grid()\n",
    "plt.xlabel(\"Year\")\n",
    "plt.ylabel(\"Amount (1000$)\")\n",
    "plt.xticks(np.arange(min(masterTable.columns), max(masterTable.columns)+1, 4))\n",
    "plt.yticks(np.arange(1, 51, step=5))\n",
    "plt.legend(loc = 'best')\n",
    "plt.title(\"Tuition and Median Income Over the Years \")\n",
    "#plt.ylim(10500,36000)\n",
    "plt.show()"
   ]
  },
  {
   "cell_type": "markdown",
   "metadata": {},
   "source": [
    "### Federal loans vs Average Wage Index"
   ]
  },
  {
   "cell_type": "code",
   "execution_count": null,
   "metadata": {},
   "outputs": [],
   "source": [
    "plt.plot(masterTable.columns,masterTable.loc[\"tot_fed_loans\"] / masterTable.loc[\"average_wage_index\"] * 100,\\\n",
    "         label = \"Fed. loans to Wages ratio\")\n",
    "plt.xlabel(\"Year\")\n",
    "plt.ylabel(\"Fed. loans to Wages (%)\")\n",
    "plt.xticks(np.arange(min(masterTable.columns), max(masterTable.columns)+1, 4))\n",
    "plt.grid()\n",
    "plt.legend(loc = 'best')\n",
    "plt.title(\"Federal loans vs Average Wage Index\")\n",
    "plt.show()"
   ]
  },
  {
   "cell_type": "markdown",
   "metadata": {},
   "source": [
    "### Breakdown of Student Aid"
   ]
  },
  {
   "cell_type": "code",
   "execution_count": null,
   "metadata": {},
   "outputs": [],
   "source": [
    "pieLabels = [\"Fed. grants\",\"Fed. Loans\",\"Work study\",\"State grants\",\"Inst. grants\",\"Emplyr grants\"]\n",
    "pieColors = [\"green\",\"blue\",\"red\",\"yellow\",\"brown\",\"pink\"]\n",
    "size1973 = [(masterTable.loc[\"tot_federal_grants\",masterTable.columns[0]] /masterTable.loc[\"tot_std_aid_loans\",masterTable.columns[0]]* 100)\\\n",
    "           ,(masterTable.loc[\"tot_fed_loans\",masterTable.columns[0]] /masterTable.loc[\"tot_std_aid_loans\",masterTable.columns[0]]* 100)\\\n",
    "           ,(masterTable.loc[\"fedral_work_study\",masterTable.columns[0]] /masterTable.loc[\"tot_std_aid_loans\",masterTable.columns[0]]* 100)\\\n",
    "           ,(masterTable.loc[\"state_grants\",masterTable.columns[0]] /masterTable.loc[\"tot_std_aid_loans\",masterTable.columns[0]]* 100)\\\n",
    "           ,(masterTable.loc[\"institutional_grants\",masterTable.columns[0]] /masterTable.loc[\"tot_std_aid_loans\",masterTable.columns[0]]* 100)\\\n",
    "           ,(masterTable.loc[\"private_employer_grants\",masterTable.columns[0]] /masterTable.loc[\"tot_std_aid_loans\",masterTable.columns[0]]* 100)\\\n",
    "           ]                                                                                                                                                              \n",
    "                    \n",
    "plt.pie(size1973,labels = pieLabels, colors = pieColors,autopct = '%1.1f%%',shadow = True)\n",
    "plt.axis(\"equal\")\n",
    "plt.show()"
   ]
  },
  {
   "cell_type": "code",
   "execution_count": null,
   "metadata": {},
   "outputs": [],
   "source": [
    "size1995 = [(masterTable.loc[\"tot_federal_grants\",masterTable.columns[22]] /masterTable.loc[\"tot_std_aid_loans\",masterTable.columns[22]]* 100)\\\n",
    "           ,(masterTable.loc[\"tot_fed_loans\",masterTable.columns[22]] /masterTable.loc[\"tot_std_aid_loans\",masterTable.columns[22]]* 100)\\\n",
    "           ,(masterTable.loc[\"fedral_work_study\",masterTable.columns[22]] /masterTable.loc[\"tot_std_aid_loans\",masterTable.columns[0]]* 100)\\\n",
    "           ,(masterTable.loc[\"state_grants\",masterTable.columns[22]] /masterTable.loc[\"tot_std_aid_loans\",masterTable.columns[22]]* 100)\\\n",
    "           ,(masterTable.loc[\"institutional_grants\",masterTable.columns[22]] /masterTable.loc[\"tot_std_aid_loans\",masterTable.columns[22]]* 100)\\\n",
    "           ,(masterTable.loc[\"private_employer_grants\",masterTable.columns[22]] /masterTable.loc[\"tot_std_aid_loans\",masterTable.columns[22]]* 100)\\\n",
    "           ]                                                                                                                                                              \n",
    "                    \n",
    "plt.pie(size1995,labels = pieLabels, colors = pieColors,autopct = '%1.1f%%',shadow = True)\n",
    "plt.axis(\"equal\")\n",
    "plt.show()"
   ]
  },
  {
   "cell_type": "code",
   "execution_count": null,
   "metadata": {},
   "outputs": [],
   "source": [
    "size1995 = [(masterTable.loc[\"tot_federal_grants\",masterTable.columns[22]] /masterTable.loc[\"tot_std_aid_loans\",masterTable.columns[22]]* 100)\\\n",
    "           ,(masterTable.loc[\"tot_fed_loans\",masterTable.columns[22]] /masterTable.loc[\"tot_std_aid_loans\",masterTable.columns[22]]* 100)\\\n",
    "           ,(masterTable.loc[\"fedral_work_study\",masterTable.columns[22]] /masterTable.loc[\"tot_std_aid_loans\",masterTable.columns[0]]* 100)\\\n",
    "           ,(masterTable.loc[\"state_grants\",masterTable.columns[22]] /masterTable.loc[\"tot_std_aid_loans\",masterTable.columns[22]]* 100)\\\n",
    "           ,(masterTable.loc[\"institutional_grants\",masterTable.columns[22]] /masterTable.loc[\"tot_std_aid_loans\",masterTable.columns[22]]* 100)\\\n",
    "           ,(masterTable.loc[\"private_employer_grants\",masterTable.columns[22]] /masterTable.loc[\"tot_std_aid_loans\",masterTable.columns[22]]* 100)\\\n",
    "           ]                                                                                                                                                              \n",
    "                    \n",
    "plt.pie(size1995,labels = pieLabels, colors = pieColors,autopct = '%1.1f%%',shadow = True)\n",
    "plt.axis(\"equal\")\n",
    "plt.show()"
   ]
  },
  {
   "cell_type": "code",
   "execution_count": null,
   "metadata": {},
   "outputs": [],
   "source": [
    "size2017 = [(masterTable.loc[\"tot_federal_grants\",masterTable.columns[44]] /masterTable.loc[\"tot_std_aid_loans\",masterTable.columns[44]]* 100)\\\n",
    "           ,(masterTable.loc[\"tot_fed_loans\",masterTable.columns[44]] /masterTable.loc[\"tot_std_aid_loans\",masterTable.columns[44]]* 100)\\\n",
    "           ,(masterTable.loc[\"fedral_work_study\",masterTable.columns[44]] /masterTable.loc[\"tot_std_aid_loans\",masterTable.columns[0]]* 100)\\\n",
    "           ,(masterTable.loc[\"state_grants\",masterTable.columns[44]] /masterTable.loc[\"tot_std_aid_loans\",masterTable.columns[44]]* 100)\\\n",
    "           ,(masterTable.loc[\"institutional_grants\",masterTable.columns[44]] /masterTable.loc[\"tot_std_aid_loans\",masterTable.columns[44]]* 100)\\\n",
    "           ,(masterTable.loc[\"private_employer_grants\",masterTable.columns[44]] /masterTable.loc[\"tot_std_aid_loans\",masterTable.columns[44]]* 100)\\\n",
    "           ]                                                                                                                                                              \n",
    "                    \n",
    "plt.pie(size2017,labels = pieLabels, colors = pieColors,autopct = '%1.1f%%',shadow = True)\n",
    "plt.axis(\"equal\")\n",
    "plt.show()"
   ]
  },
  {
   "cell_type": "code",
   "execution_count": null,
   "metadata": {},
   "outputs": [],
   "source": [
    "p1 = plt.bar(masterTable.columns,masterTable.loc[\"tot_federal_grants\"] / masterTable.loc[\"tot_std_aid_loans\"] *100)\n",
    "p2 = plt.bar(masterTable.columns,masterTable.loc[\"tot_fed_loans\"] / masterTable.loc[\"tot_std_aid_loans\"] *100)\n",
    "p3 = plt.bar(masterTable.columns,masterTable.loc[\"fedral_work_study\"] / masterTable.loc[\"tot_std_aid_loans\"] *100)\n",
    "p4 = plt.bar(masterTable.columns,masterTable.loc[\"state_grants\"] / masterTable.loc[\"tot_std_aid_loans\"] *100)\n",
    "p5 = plt.bar(masterTable.columns,masterTable.loc[\"institutional_grants\"] / masterTable.loc[\"tot_std_aid_loans\"] *100)\n",
    "p6 = plt.bar(masterTable.columns,masterTable.loc[\"private_employer_grants\"] / masterTable.loc[\"tot_std_aid_loans\"] *100)\n",
    "plt.title(\"Sources of Student Aid\")\n",
    "plt.ylabel(\"Percentage of Aid (%)\")\n",
    "plt.xlabel(\"Year\")\n",
    "plt.xticks(masterTable.columns,rotation=\"vertical\")\n",
    "plt.legend((p1[0],p2[0],p3[0],p4[0],p5[0],p6[0]),(\"Fed. grants\",\"Fed. loans\",\"Work study\",\"State grants\",\"Inst. grants\",\"Emplyr grants\"))\n",
    "plt.tight_layout()\n",
    "plt.show()"
   ]
  },
  {
   "cell_type": "code",
   "execution_count": null,
   "metadata": {},
   "outputs": [],
   "source": [
    "plt.bar?"
   ]
  },
  {
   "cell_type": "code",
   "execution_count": null,
   "metadata": {},
   "outputs": [],
   "source": []
  }
 ],
 "metadata": {
  "kernelspec": {
   "display_name": "Python 3",
   "language": "python",
   "name": "python3"
  },
  "language_info": {
   "codemirror_mode": {
    "name": "ipython",
    "version": 3
   },
   "file_extension": ".py",
   "mimetype": "text/x-python",
   "name": "python",
   "nbconvert_exporter": "python",
   "pygments_lexer": "ipython3",
   "version": "3.7.1"
  }
 },
 "nbformat": 4,
 "nbformat_minor": 2
}
